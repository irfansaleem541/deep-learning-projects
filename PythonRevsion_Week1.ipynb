{
  "nbformat": 4,
  "nbformat_minor": 0,
  "metadata": {
    "colab": {
      "provenance": [],
      "authorship_tag": "ABX9TyOVgkw0FSdYtwvn2pbTvdBZ",
      "include_colab_link": true
    },
    "kernelspec": {
      "name": "python3",
      "display_name": "Python 3"
    },
    "language_info": {
      "name": "python"
    }
  },
  "cells": [
    {
      "cell_type": "markdown",
      "metadata": {
        "id": "view-in-github",
        "colab_type": "text"
      },
      "source": [
        "<a href=\"https://colab.research.google.com/github/irfansaleem541/deep-learning-projects/blob/main/PythonRevsion_Week1.ipynb\" target=\"_parent\"><img src=\"https://colab.research.google.com/assets/colab-badge.svg\" alt=\"Open In Colab\"/></a>"
      ]
    },
    {
      "cell_type": "markdown",
      "source": [
        "Whitespace, Colons and indentation in Python\n"
      ],
      "metadata": {
        "id": "FLI7MCqVK8PI"
      }
    },
    {
      "cell_type": "code",
      "source": [
        "x = 34 - 23          # A comment.\n",
        "y = \"Hello\"          # Another one.\n",
        "z = 3.45\n",
        "if z == 3.45 or y == 'Hello':\n",
        "     x = x + 1\n",
        "     y = y + ' World' #String concat.\n",
        "     print (x)\n",
        "     print (y)"
      ],
      "metadata": {
        "colab": {
          "base_uri": "https://localhost:8080/"
        },
        "id": "S5JUXGkdJNJ9",
        "outputId": "18f18556-0740-4add-87a0-04761fa424df"
      },
      "execution_count": null,
      "outputs": [
        {
          "output_type": "stream",
          "name": "stdout",
          "text": [
            "12\n",
            "Hello World\n"
          ]
        }
      ]
    },
    {
      "cell_type": "markdown",
      "source": [
        "Undersanding Data Types in Python  (Integers, Floats, Strings etc )"
      ],
      "metadata": {
        "id": "NhFHoSukDBJr"
      }
    },
    {
      "cell_type": "code",
      "execution_count": null,
      "metadata": {
        "colab": {
          "base_uri": "https://localhost:8080/"
        },
        "id": "ffhOmHU7kEbF",
        "outputId": "cf4921b5-3fcf-42ec-babd-23eeb33363d7"
      },
      "outputs": [
        {
          "output_type": "stream",
          "name": "stdout",
          "text": [
            "30000.0\n"
          ]
        }
      ],
      "source": [
        "Sales_figures = [25000, 32000, 28000, 35000]\n",
        "average_sales = sum(Sales_figures) / len(Sales_figures)\n",
        "print(average_sales)  # Output: 31000.0\n"
      ]
    },
    {
      "cell_type": "code",
      "source": [
        "company_name = \"Tech Innovations\"\n",
        "product_name = \"Laptop\"\n",
        "description = \"The company \" + company_name+ \" sells \" + product_name + \".\"\n",
        "print(description)# Output: The company Tech Innovations sells Laptop.\n"
      ],
      "metadata": {
        "colab": {
          "base_uri": "https://localhost:8080/"
        },
        "id": "r5gu1DNUlFNj",
        "outputId": "b47d48d4-7b67-4207-d088-5c77315d05f7"
      },
      "execution_count": null,
      "outputs": [
        {
          "output_type": "stream",
          "name": "stdout",
          "text": [
            "The company Tech Innovations sells Laptop.\n"
          ]
        }
      ]
    },
    {
      "cell_type": "markdown",
      "source": [
        "**Simple Functions in pythons:**\n",
        "Calculates the total sales for a business.\n",
        "**  Args:**\n",
        "    sales_figures: A list of sales figures for each product.\n",
        "**  Returns:**\n",
        "    The total sales for the business."
      ],
      "metadata": {
        "id": "N80-Sz7aECqh"
      }
    },
    {
      "cell_type": "code",
      "source": [
        "def calculate_total_sales(sales_figures):\n",
        "  total_sales = sum(sales_figures)\n",
        "  return total_sales\n",
        "# Example usage\n",
        "sales_figures = [25000, 32000, 28000, 35000]  # Your existing Sales_figures variable\n",
        "total_sales = calculate_total_sales(sales_figures)\n",
        "print(f\"Total sales: {total_sales}\")  # Output: Total sales: 120000"
      ],
      "metadata": {
        "colab": {
          "base_uri": "https://localhost:8080/"
        },
        "id": "Xpz5K4nDEGqA",
        "outputId": "94d75a73-c133-43a5-ec10-54fb49ecb4f8"
      },
      "execution_count": null,
      "outputs": [
        {
          "output_type": "stream",
          "name": "stdout",
          "text": [
            "Total sales: 120000\n"
          ]
        }
      ]
    },
    {
      "cell_type": "markdown",
      "source": [
        "Tuple Practice"
      ],
      "metadata": {
        "id": "IILznCBRFlgi"
      }
    },
    {
      "cell_type": "code",
      "source": [
        "# Define a tuple\n",
        "my_tuple = (10, 20, 30, 40)\n",
        "\n",
        "# Access an element\n",
        "print(\"First element:\", my_tuple[0])\n",
        "\n",
        "# Check immutability (uncomment to see error)\n",
        "# my_tuple[1] = 25\n",
        "\n",
        "# Count occurrences\n",
        "print(\"Occurrences of 20:\", my_tuple.count(20))\n",
        "\n",
        "# Index of an element\n",
        "print(\"Index of 30:\", my_tuple.index(30))\n"
      ],
      "metadata": {
        "colab": {
          "base_uri": "https://localhost:8080/"
        },
        "id": "Hqhas4f5QPw6",
        "outputId": "a76f09ce-7afe-493d-d57d-cfac478886b0"
      },
      "execution_count": null,
      "outputs": [
        {
          "output_type": "stream",
          "name": "stdout",
          "text": [
            "First element: 10\n",
            "Occurrences of 20: 1\n",
            "Index of 30: 2\n"
          ]
        }
      ]
    },
    {
      "cell_type": "markdown",
      "source": [
        "List Practice"
      ],
      "metadata": {
        "id": "b36fcqHHQWh4"
      }
    },
    {
      "cell_type": "code",
      "source": [
        "# Define a list\n",
        "my_list = [5, 10, 15, 20]\n",
        "\n",
        "# Add an element\n",
        "my_list.append(25)\n",
        "print(\"After appending:\", my_list)\n",
        "\n",
        "# Modify an element\n",
        "my_list[2] = 18\n",
        "print(\"After modification:\", my_list)\n",
        "\n",
        "# Remove an element\n",
        "my_list.remove(10)\n",
        "print(\"After removing 10:\", my_list)\n",
        "\n",
        "# Iterating through a list\n",
        "for item in my_list:\n",
        "    print(\"Item:\", item)\n"
      ],
      "metadata": {
        "colab": {
          "base_uri": "https://localhost:8080/"
        },
        "id": "8lVrgRnrQZrD",
        "outputId": "f3bd8fdc-ff9d-4b87-b446-e45ef9ad350d"
      },
      "execution_count": null,
      "outputs": [
        {
          "output_type": "stream",
          "name": "stdout",
          "text": [
            "After appending: [5, 10, 15, 20, 25]\n",
            "After modification: [5, 10, 18, 20, 25]\n",
            "After removing 10: [5, 18, 20, 25]\n",
            "Item: 5\n",
            "Item: 18\n",
            "Item: 20\n",
            "Item: 25\n"
          ]
        }
      ]
    },
    {
      "cell_type": "code",
      "source": [
        "# Define a class for Customer\n",
        "class Customer:\n",
        "    def __init__(self, name, email):\n",
        "        \"\"\"Initialize customer with name and email.\"\"\"\n",
        "        self.name = name\n",
        "        self.email = email\n",
        "        self.purchases = []  # List to store purchase history\n",
        "\n",
        "    def add_purchase(self, item, amount):\n",
        "        \"\"\"Add a purchase to the customer's history.\"\"\"\n",
        "        self.purchases.append({'item': item, 'amount': amount})\n",
        "\n",
        "    def total_spent(self):\n",
        "        \"\"\"Calculate total amount spent by the customer.\"\"\"\n",
        "        return sum(purchase['amount'] for purchase in self.purchases)\n",
        "\n",
        "    def get_details(self):\n",
        "        \"\"\"Return customer details and purchase summary.\"\"\"\n",
        "        return {\n",
        "            'Name': self.name,\n",
        "            'Email': self.email,\n",
        "            'Total Spent': self.total_spent(),\n",
        "            'Purchases': self.purchases\n",
        "        }\n",
        "\n",
        "# Create objects (customers)\n",
        "customer1 = Customer(\"Alice Johnson\", \"alice@example.com\")\n",
        "customer2 = Customer(\"Bob Smith\", \"bob@example.com\")\n",
        "\n",
        "# Add purchases for each customer\n",
        "customer1.add_purchase(\"Laptop\", 1200)\n",
        "customer1.add_purchase(\"Mouse\", 20)\n",
        "\n",
        "customer2.add_purchase(\"Smartphone\", 800)\n",
        "customer2.add_purchase(\"Headphones\", 100)\n",
        "\n",
        "# Use functions to get details and analyze\n",
        "print(\"Customer 1 Details:\")\n",
        "print(customer1.get_details())\n",
        "\n",
        "print(\"\\nCustomer 2 Details:\")\n",
        "print(customer2.get_details())\n",
        "\n",
        "# Business Insights: Find the customer who spent the most\n",
        "customers = [customer1, customer2]\n",
        "highest_spender = max(customers, key=lambda c: c.total_spent())\n",
        "print(f\"\\nHighest Spender: {highest_spender.name} (${highest_spender.total_spent()})\")\n"
      ],
      "metadata": {
        "id": "r2_O2tAIRRTi",
        "outputId": "6bb5f9a9-0ea5-44ab-8ef1-eefbb490b319",
        "colab": {
          "base_uri": "https://localhost:8080/"
        }
      },
      "execution_count": null,
      "outputs": [
        {
          "output_type": "stream",
          "name": "stdout",
          "text": [
            "Customer 1 Details:\n",
            "{'Name': 'Alice Johnson', 'Email': 'alice@example.com', 'Total Spent': 1220, 'Purchases': [{'item': 'Laptop', 'amount': 1200}, {'item': 'Mouse', 'amount': 20}]}\n",
            "\n",
            "Customer 2 Details:\n",
            "{'Name': 'Bob Smith', 'Email': 'bob@example.com', 'Total Spent': 900, 'Purchases': [{'item': 'Smartphone', 'amount': 800}, {'item': 'Headphones', 'amount': 100}]}\n",
            "\n",
            "Highest Spender: Alice Johnson ($1220)\n"
          ]
        }
      ]
    },
    {
      "cell_type": "markdown",
      "source": [
        "**Sample Sentiment analysis for customer feedback**\n",
        "\n",
        "Explanation:\n",
        "Data Preparation: We have a simple dataset of customer Age and Monthly Spend.\n",
        "Standardization: The data is scaled using StandardScaler to normalize the features and bring them to the same scale, which is important for distance-based algorithms like K-Means.\n",
        "Elbow Method: The Elbow method is used to determine the optimal number of clusters (k). We try different values of k (from 1 to 10) and calculate the Within-Cluster Sum of Squares (WCSS). The \"elbow\" in the plot helps identify the best k.\n",
        "K-Means Clustering: We perform K-Means clustering with the selected number of clusters (k=3 in this case) and assign cluster labels to each customer.\n",
        "Customer Segmentation: The resulting DataFrame shows each customer's cluster label, indicating which segment they belong to.\n",
        "Visualization: The scatter plot visualizes the customers, colored by their assigned cluster.\n",
        "\n",
        "\n"
      ],
      "metadata": {
        "id": "HAVnrGkOjfJD"
      }
    },
    {
      "cell_type": "code",
      "source": [
        "from textblob import TextBlob\n",
        "\n",
        "# Sample customer rating text\n",
        "text = \"The service was bad, and the staff was not helpful!\"\n",
        "\n",
        "# Perform sentiment analysis\n",
        "blob = TextBlob(text)\n",
        "polarity = blob.sentiment.polarity  # Range: -1 (negative) to 1 (positive)\n",
        "\n",
        "# Interpret the sentiment polarity\n",
        "if polarity > 0.5:\n",
        "    sentiment = \"Very Positive\"\n",
        "elif 0.1 < polarity <= 0.5:\n",
        "    sentiment = \"Positive\"\n",
        "elif -0.1 <= polarity <= 0.1:\n",
        "    sentiment = \"Neutral\"\n",
        "elif -0.5 <= polarity < -0.1:\n",
        "    sentiment = \"Negative\"\n",
        "else:\n",
        "    sentiment = \"Very Negative\"\n",
        "\n",
        "# Display user-friendly results\n",
        "print(\"Customer Feedback:\")\n",
        "print(f\"Text: {text}\")\n",
        "print(f\"Sentiment Score: {polarity:.2f} ({sentiment})\")\n"
      ],
      "metadata": {
        "colab": {
          "base_uri": "https://localhost:8080/"
        },
        "id": "lTDByZ1LjwVM",
        "outputId": "374afe6d-6215-4d42-c504-f24298107b95"
      },
      "execution_count": null,
      "outputs": [
        {
          "output_type": "stream",
          "name": "stdout",
          "text": [
            "Customer Feedback:\n",
            "Text: The service was bad, and the staff was not helpful!\n",
            "Sentiment Score: -0.87 (Very Negative)\n"
          ]
        }
      ]
    },
    {
      "cell_type": "markdown",
      "source": [
        "Clustering - K-mean example - Customer Segmentation"
      ],
      "metadata": {
        "id": "q1K0j1ChxFRr"
      }
    },
    {
      "cell_type": "code",
      "source": [
        "import pandas as pd\n",
        "import numpy as np\n",
        "import matplotlib.pyplot as plt\n",
        "from sklearn.cluster import KMeans\n",
        "from sklearn.preprocessing import StandardScaler\n",
        "\n",
        "# Sample customer data (Age, Monthly Spend)\n",
        "data = {\n",
        "    'Age': [22, 25, 47, 52, 46, 56, 24, 31, 54, 29, 35, 33, 42, 48, 60],\n",
        "    'Monthly Spend': [250, 300, 500, 600, 450, 700, 200, 350, 550, 280, 400, 390, 490, 510, 650]\n",
        "}\n",
        "\n",
        "# Create DataFrame\n",
        "df = pd.DataFrame(data)\n",
        "\n",
        "# Feature scaling: Normalize the data\n",
        "scaler = StandardScaler()\n",
        "scaled_data = scaler.fit_transform(df)\n",
        "\n",
        "# Using the Elbow method to find the optimal number of clusters (k)\n",
        "wcss = []  # Within-cluster sum of squares\n",
        "for i in range(1, 11):  # Checking for k=1 to k=10\n",
        "    kmeans = KMeans(n_clusters=i, init='k-means++', max_iter=300, n_init=10, random_state=42)\n",
        "    kmeans.fit(scaled_data)\n",
        "    wcss.append(kmeans.inertia_)\n",
        "\n",
        "# Plotting the Elbow graph to find the optimal 'k'\n",
        "plt.plot(range(1, 11), wcss)\n",
        "plt.title('Elbow Method for Optimal k')\n",
        "plt.xlabel('Number of clusters')\n",
        "plt.ylabel('WCSS')\n",
        "plt.show()\n",
        "\n",
        "# Based on the Elbow method, assume we choose k=3 for this example\n",
        "kmeans = KMeans(n_clusters=3, init='k-means++', max_iter=300, n_init=10, random_state=42)\n",
        "y_kmeans = kmeans.fit_predict(scaled_data)\n",
        "\n",
        "# Adding the cluster labels to the original DataFrame\n",
        "df['Cluster'] = y_kmeans\n",
        "\n",
        "# Display the customer segmentation\n",
        "print(df)\n",
        "\n",
        "# Visualize the clusters\n",
        "plt.scatter(df['Age'], df['Monthly Spend'], c=df['Cluster'], cmap='viridis')\n",
        "plt.title('Customer Segmentation using K-Means')\n",
        "plt.xlabel('Age')\n",
        "plt.ylabel('Monthly Spend')\n",
        "plt.show()\n"
      ],
      "metadata": {
        "colab": {
          "base_uri": "https://localhost:8080/",
          "height": 1000
        },
        "id": "fN4bMoqfxLps",
        "outputId": "ad484251-9b7c-4990-81ee-e7307ead14a6"
      },
      "execution_count": null,
      "outputs": [
        {
          "output_type": "display_data",
          "data": {
            "text/plain": [
              "<Figure size 640x480 with 1 Axes>"
            ],
            "image/png": "[encoded data removed]"
          },
          "metadata": {}
        },
        {
          "output_type": "stream",
          "name": "stdout",
          "text": [
            "    Age  Monthly Spend  Cluster\n",
            "0    22            250        1\n",
            "1    25            300        1\n",
            "2    47            500        0\n",
            "3    52            600        2\n",
            "4    46            450        0\n",
            "5    56            700        2\n",
            "6    24            200        1\n",
            "7    31            350        1\n",
            "8    54            550        2\n",
            "9    29            280        1\n",
            "10   35            400        1\n",
            "11   33            390        1\n",
            "12   42            490        0\n",
            "13   48            510        0\n",
            "14   60            650        2\n"
          ]
        },
        {
          "output_type": "display_data",
          "data": {
            "text/plain": [
              "<Figure size 640x480 with 1 Axes>"
            ],
            "image/png": "[encoded data removed]"
          },
          "metadata": {}
        }
      ]
    }
  ]
}